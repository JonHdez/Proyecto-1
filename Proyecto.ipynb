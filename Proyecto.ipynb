{
 "cells": [
  {
   "cell_type": "code",
   "execution_count": null,
   "metadata": {},
   "outputs": [],
   "source": [
    "import matplotlib.pyplot as plt\n",
    "import numpy as np\n",
    "import pandas as pd\n",
    "\n",
    "laptops = pd.read_csv('./Cleaned_laptop_data.csv')\n",
    "laptops"
   ]
  },
  {
   "cell_type": "code",
   "execution_count": null,
   "metadata": {},
   "outputs": [],
   "source": [
    "laptops.isnull().sum()"
   ]
  },
  {
   "cell_type": "code",
   "execution_count": null,
   "metadata": {},
   "outputs": [],
   "source": [
    "laptops_limpio = laptops.dropna()\n",
    "laptops_limpio = laptops.drop_duplicates()\n",
    "laptops_limpio.isnull().sum()"
   ]
  },
  {
   "cell_type": "code",
   "execution_count": null,
   "metadata": {},
   "outputs": [],
   "source": [
    "laptops_limpio"
   ]
  },
  {
   "cell_type": "code",
   "execution_count": null,
   "metadata": {},
   "outputs": [],
   "source": [
    "laptops_limpio.columns"
   ]
  },
  {
   "cell_type": "code",
   "execution_count": null,
   "metadata": {},
   "outputs": [],
   "source": [
    "laptops_limpio.rename(columns={\n",
    "    'brand': 'Marca',\n",
    "    'model': 'Modelo',\n",
    "    'processor_brand': 'Marca_Procesador',\n",
    "    'processor_name': 'Nombre_Procesador',\n",
    "    'processor_gnrtn': 'Generacion_Procesador',\n",
    "    'ram_gb': 'Cantidad_Ram',\n",
    "    'ram_type': 'Tipo_Ram',\n",
    "    'ssd' : \"Cantidad_SSD\",\n",
    "    'hdd' : \"Cantidad_HDD\",\n",
    "    'os' : \"Sistema_Operativo\",\n",
    "    'os_bit' : 'Arquitectura_Sistema_Operativo',\n",
    "    'graphic_card_gb' : 'Cantidad_Tarjeta_Grafica',\n",
    "    'weight' : 'Peso',\n",
    "    'display_size' : 'Tamaño_Pantalla',\n",
    "    'warranty':'Garantia',\n",
    "    'Touchscreen':'Pantalla_Tactil',\n",
    "    'msoffice' : 'MS_Office',\n",
    "    'latest_price':'Ultimo_Precio',\n",
    "    'old_price':'Precio_Antiguo',\n",
    "    'discount':'Descuento',\n",
    "    'star_rating':'Calificion_Estrellas',\n",
    "    'ratings':'Calidficacion',\n",
    "    'reviews':'Reseña',\n",
    "}, inplace=True)"
   ]
  },
  {
   "cell_type": "code",
   "execution_count": null,
   "metadata": {},
   "outputs": [],
   "source": [
    "laptops_limpio"
   ]
  },
  {
   "cell_type": "code",
   "execution_count": null,
   "metadata": {},
   "outputs": [],
   "source": [
    "laptops_limpio.describe()"
   ]
  },
  {
   "cell_type": "code",
   "execution_count": null,
   "metadata": {},
   "outputs": [],
   "source": [
    "resultado =laptops_limpio.loc[:,['Modelo','Marca']].groupby('Marca').count().rename(columns={'Modelo':'Cantidad'}).sort_values('Cantidad', ascending=False)\n",
    "resultado['Porcetaje'] = resultado['Cantidad'] / resultado['Cantidad'].sum()*100\n",
    "resultado"
   ]
  }
 ],
 "metadata": {
  "interpreter": {
   "hash": "4a7090eeb7ba7dce2a59dc3782b9aa70adcb32afff92a8aa76bdf25b7c48acb8"
  },
  "kernelspec": {
   "display_name": "Python 3.10.2 ('venv': venv)",
   "language": "python",
   "name": "python3"
  },
  "language_info": {
   "codemirror_mode": {
    "name": "ipython",
    "version": 3
   },
   "file_extension": ".py",
   "mimetype": "text/x-python",
   "name": "python",
   "nbconvert_exporter": "python",
   "pygments_lexer": "ipython3",
   "version": "3.10.2"
  },
  "orig_nbformat": 4
 },
 "nbformat": 4,
 "nbformat_minor": 2
}
